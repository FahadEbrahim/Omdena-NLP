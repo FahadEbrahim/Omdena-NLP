{
  "nbformat": 4,
  "nbformat_minor": 0,
  "metadata": {
    "colab": {
      "provenance": []
    },
    "kernelspec": {
      "name": "python3",
      "display_name": "Python 3"
    },
    "language_info": {
      "name": "python"
    }
  },
  "cells": [
    {
      "cell_type": "code",
      "source": [
        "import nltk\n",
        "nltk.download('punkt')"
      ],
      "metadata": {
        "colab": {
          "base_uri": "https://localhost:8080/"
        },
        "id": "Kp2WUtevu4jh",
        "outputId": "7e2a3620-a0dc-4876-8c8f-5143884e97e4"
      },
      "execution_count": 3,
      "outputs": [
        {
          "output_type": "stream",
          "name": "stderr",
          "text": [
            "[nltk_data] Downloading package punkt to /root/nltk_data...\n",
            "[nltk_data]   Unzipping tokenizers/punkt.zip.\n"
          ]
        },
        {
          "output_type": "execute_result",
          "data": {
            "text/plain": [
              "True"
            ]
          },
          "metadata": {},
          "execution_count": 3
        }
      ]
    },
    {
      "cell_type": "code",
      "execution_count": 4,
      "metadata": {
        "colab": {
          "base_uri": "https://localhost:8080/"
        },
        "id": "j8tgwjOXuEFg",
        "outputId": "5d5e04ff-7324-4f2d-a0a8-45063fb561a8"
      },
      "outputs": [
        {
          "output_type": "execute_result",
          "data": {
            "text/plain": [
              "['This', 'is', 'a', 'sentence']"
            ]
          },
          "metadata": {},
          "execution_count": 4
        }
      ],
      "source": [
        "# EXERCISE: Tokenize a text using the Python nltk library\n",
        "# Expected output: ['This', 'is', 'a', 'sentence']\n",
        "\n",
        "from nltk import word_tokenize\n",
        "\n",
        "word_tokenize('This is a sentence')"
      ]
    },
    {
      "cell_type": "code",
      "source": [
        "#\n",
        "# EXERCISE: Look up how to tokenize the sentence below using NLTK. The imports \n",
        "# are done for you. Does the NLTK tokenizer handle \"N.Y.C.\" correctly?\n",
        "#\n",
        "import nltk\n",
        "from nltk.tokenize import TreebankWordTokenizer\n",
        "from nltk.tokenize import sent_tokenize\n",
        "\n",
        "s = \"Let's go to N.Y.C. for the weekend.\"\n",
        "\n",
        "print('Using sent_tokenize')\n",
        "print(sent_tokenize(s))\n",
        "\n",
        "print('Using TreebankWordTokenizer')\n",
        "print(TreebankWordTokenizer().tokenize(s))\n",
        "\n",
        "# The first tokenizer does not handle N.Y.C correctly while the other one does. "
      ],
      "metadata": {
        "colab": {
          "base_uri": "https://localhost:8080/"
        },
        "id": "Nos-seeQu_Cp",
        "outputId": "399e3205-0082-4bc2-99bf-463d0de6b539"
      },
      "execution_count": 8,
      "outputs": [
        {
          "output_type": "stream",
          "name": "stdout",
          "text": [
            "Using sent_tokenize\n",
            "[\"Let's go to N.Y.C.\", 'for the weekend.']\n",
            "Using TreebankWordTokenizer\n",
            "['Let', \"'s\", 'go', 'to', 'N.Y.C.', 'for', 'the', 'weekend', '.']\n"
          ]
        }
      ]
    },
    {
      "cell_type": "code",
      "source": [
        "#!pip install --upgrade spacy\n",
        "\n",
        "import spacy\n",
        "nlp = spacy.load(\"en_core_web_sm\")"
      ],
      "metadata": {
        "id": "THYShMWpwd5I"
      },
      "execution_count": 10,
      "outputs": []
    },
    {
      "cell_type": "code",
      "source": [
        "from spacy.symbols import IS_CURRENCY\n",
        "\n",
        "#\n",
        "# EXERCISE:\n",
        "# 1) Tokenize the following text\n",
        "# 2) Iterate through the tokens to check whether there's a currency symbol.\n",
        "# 3) If there is, and the currency label is followed by a number, print\n",
        "#    both the symbol and the number.\n",
        "# \n",
        "# Look through https://spacy.io/api/token#attributes on how to check whether\n",
        "# a token is a currency symbol or a number.\n",
        "#\n",
        "# Expected output: \"$20\".\n",
        "s = \"He didn't want to pay $20 for this book.\"\n",
        "doc = nlp(s)\n",
        "out = ''\n",
        "for token in doc:\n",
        "    if (token.is_currency | token.is_digit ):\n",
        "      out = out + token.text\n",
        "\n",
        "print(out)"
      ],
      "metadata": {
        "colab": {
          "base_uri": "https://localhost:8080/"
        },
        "id": "nbcAwYB_wcPI",
        "outputId": "3df10fcd-e52b-41ac-c43d-8186a75d6ec6"
      },
      "execution_count": 20,
      "outputs": [
        {
          "output_type": "stream",
          "name": "stdout",
          "text": [
            "$20\n"
          ]
        }
      ]
    }
  ]
}